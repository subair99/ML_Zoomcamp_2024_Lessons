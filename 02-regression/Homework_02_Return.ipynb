{
 "cells": [
  {
   "cell_type": "markdown",
   "id": "b628686d-ebbb-4173-8098-6d3b9ea89716",
   "metadata": {},
   "source": [
    "## Homework: 02\n",
    "\n",
    "> Note: sometimes your answer doesn't match one of  \n",
    "> the options exactly. That's fine.  \n",
    "> Select the option that's closest to your solution."
   ]
  },
  {
   "cell_type": "markdown",
   "id": "179941b2-6fe2-49d9-8a02-9cb232bb89e5",
   "metadata": {},
   "source": [
    "### Dataset\n",
    "\n",
    "In this homework, we will use the Laptops price dataset from [Kaggle](https://www.kaggle.com/datasets/juanmerinobermejo/laptops-price-dataset).\n",
    "\n",
    "Here's a wget-able [link](https://raw.githubusercontent.com/alexeygrigorev/datasets/master/laptops.csv):\n",
    "\n",
    "```bash\n",
    "wget https://raw.githubusercontent.com/alexeygrigorev/datasets/master/laptops.csv\n",
    "```\n",
    "\n",
    "The goal of this homework is to create a regression model for predicting the prices (column `'Final Price'`)."
   ]
  },
  {
   "cell_type": "markdown",
   "id": "5108a85c-bacf-47fb-83ee-3646e1df2956",
   "metadata": {},
   "source": [
    "### Preparing the dataset \n",
    "\n",
    "First, we'll normalize the names of the columns:\n",
    "\n",
    "```python\n",
    "df.columns = df.columns.str.lower().str.replace(' ', '_')\n",
    "```\n",
    "\n",
    "Now, instead of `'Final Price'`, we have `'final_price'`.\n",
    "\n",
    "Next, use only the following columns:\n",
    "\n",
    "* `'ram'`,\n",
    "* `'storage'`,\n",
    "* `'screen'`,\n",
    "* `'final_price'`"
   ]
  },
  {
   "cell_type": "markdown",
   "id": "631deb24-cc75-48ac-b64b-a31c6556d4aa",
   "metadata": {},
   "source": [
    "### EDA\n",
    "\n",
    "* Look at the `final_price` variable. Does it have a long tail? "
   ]
  },
  {
   "cell_type": "code",
   "execution_count": 1,
   "id": "7abe38dc-3748-4bf9-912c-11895081cdc8",
   "metadata": {},
   "outputs": [],
   "source": [
    "# Import required modules.\n",
    "import numpy as np\n",
    "import pandas as pd\n",
    "import seaborn as sns\n",
    "import warnings\n",
    "warnings.simplefilter(action='ignore', category=FutureWarning)"
   ]
  },
  {
   "cell_type": "code",
   "execution_count": 2,
   "id": "1cc4b26a-c92e-4a0c-9c11-7b95762730d9",
   "metadata": {},
   "outputs": [],
   "source": [
    "# Load the dataset.\n",
    "\n",
    "link = 'https://raw.githubusercontent.com/alexeygrigorev/datasets/master/laptops.csv'\n",
    "df_use = pd.read_csv(link)"
   ]
  },
  {
   "cell_type": "code",
   "execution_count": 3,
   "id": "ddca1c36-c89b-4ca9-b590-26d0ec148350",
   "metadata": {},
   "outputs": [],
   "source": [
    "# Prepare the dataset.\n",
    "df_use.columns = df_use.columns.str.lower().str.replace(' ', '_')"
   ]
  },
  {
   "cell_type": "code",
   "execution_count": 4,
   "id": "dddecf07-732c-4d13-8876-c57e8c2a0d87",
   "metadata": {},
   "outputs": [],
   "source": [
    "# Subset the dataset.\n",
    "col_use = ['ram', 'storage', 'screen', 'final_price']\n",
    "df = df_use[col_use]"
   ]
  },
  {
   "cell_type": "code",
   "execution_count": 5,
   "id": "25c826e0-a6ac-4e94-afdb-f2488c8b760e",
   "metadata": {},
   "outputs": [
    {
     "data": {
      "image/png": "[encoded data removed]",
      "text/plain": [
       "<Figure size 640x480 with 1 Axes>"
      ]
     },
     "metadata": {},
     "output_type": "display_data"
    }
   ],
   "source": [
    "# Plot a histogram of the final_price.\n",
    "sns.histplot(df['final_price']);"
   ]
  },
  {
   "cell_type": "markdown",
   "id": "64ef11d5-ce4e-48b6-ac95-b2bf117f305f",
   "metadata": {},
   "source": [
    "### Question 1\n",
    "\n",
    "There's one column with missing values. What is it?\n",
    "\n",
    "* `'ram'`\n",
    "* `'storage'`\n",
    "* `'screen'`\n",
    "* `'final_price'`"
   ]
  },
  {
   "cell_type": "code",
   "execution_count": 6,
   "id": "863f4a8a-651c-4084-8ae3-cb507490e747",
   "metadata": {},
   "outputs": [
    {
     "data": {
      "text/plain": [
       "ram            0\n",
       "storage        0\n",
       "screen         4\n",
       "final_price    0\n",
       "dtype: int64"
      ]
     },
     "execution_count": 6,
     "metadata": {},
     "output_type": "execute_result"
    }
   ],
   "source": [
    "# Check for missing values in df_use.\n",
    "df.isna().sum()"
   ]
  },
  {
   "cell_type": "markdown",
   "id": "5eaed48f-189e-4fb5-b432-e156f9dab6b3",
   "metadata": {},
   "source": [
    "Question 01 Answer: 'screen'"
   ]
  },
  {
   "cell_type": "markdown",
   "id": "87483147-0a3a-491c-9f47-22d11265fd38",
   "metadata": {},
   "source": [
    "### Question 2\n",
    "\n",
    "What's the median (50% percentile) for variable `'ram'`?\n",
    "\n",
    "- 8\n",
    "- 16\n",
    "- 24\n",
    "- 32"
   ]
  },
  {
   "cell_type": "code",
   "execution_count": 7,
   "id": "62b09844-4522-45d8-8569-05d79880d805",
   "metadata": {},
   "outputs": [
    {
     "data": {
      "text/plain": [
       "16.0"
      ]
     },
     "execution_count": 7,
     "metadata": {},
     "output_type": "execute_result"
    }
   ],
   "source": [
    "# Find the  for variable 'ram'.\n",
    "df['ram'].median()"
   ]
  },
  {
   "cell_type": "markdown",
   "id": "dc0b31c1-5134-4f14-a3fd-0fa17fa8fd84",
   "metadata": {},
   "source": [
    "Question 02 Answer: 16"
   ]
  },
  {
   "cell_type": "markdown",
   "id": "878445bd-d1b1-4564-980c-c0ea567068fd",
   "metadata": {},
   "source": [
    "### Prepare and split the dataset\n",
    "\n",
    "* Shuffle the dataset (the filtered one you created above), use seed `42`.\n",
    "* Split your data in train/val/test sets, with 60%/20%/20% distribution.\n",
    "\n",
    "Use the same code as in the lectures"
   ]
  },
  {
   "cell_type": "code",
   "execution_count": 8,
   "id": "9f1b8525-9307-45ed-b25e-7e2ec047077b",
   "metadata": {},
   "outputs": [],
   "source": [
    "# Find the lengths of n_val, n_test, n_train.\n",
    "n = len(df)\n",
    "n_val = int(n * 0.2)\n",
    "n_test = int(n * 0.2)\n",
    "n_train = n - n_val - n_test"
   ]
  },
  {
   "cell_type": "code",
   "execution_count": 9,
   "id": "14a8939d-95cd-4973-8962-213024302309",
   "metadata": {},
   "outputs": [],
   "source": [
    "# Shuffle the indices.\n",
    "np.random.seed(42)\n",
    "idx = np.arange(n)\n",
    "np.random.shuffle(idx)"
   ]
  },
  {
   "cell_type": "code",
   "execution_count": 10,
   "id": "9cea897f-f5b5-4a32-808b-f0090dba196b",
   "metadata": {},
   "outputs": [],
   "source": [
    "# Derive df_train, df_val and df_test.\n",
    "df_train = df.iloc[idx[:n_train]]\n",
    "df_val = df.iloc[idx[n_train:n_train+n_val]]\n",
    "df_test = df.iloc[idx[n_train+n_val:]]"
   ]
  },
  {
   "cell_type": "code",
   "execution_count": 11,
   "id": "c44be9b1-503a-492d-9b99-1f10b61a9173",
   "metadata": {},
   "outputs": [
    {
     "data": {
      "text/plain": [
       "(1296, 432, 432)"
      ]
     },
     "execution_count": 11,
     "metadata": {},
     "output_type": "execute_result"
    }
   ],
   "source": [
    "# Show the lengths of df_train, df_val and df_test.\n",
    "len(df_train), len(df_val), len(df_test)"
   ]
  },
  {
   "cell_type": "code",
   "execution_count": 12,
   "id": "52604e03-8ca8-4609-8ea8-ebc00d352336",
   "metadata": {},
   "outputs": [],
   "source": [
    "# Drop the indices.\n",
    "df_train = df_train.reset_index(drop=True)\n",
    "df_val = df_val.reset_index(drop=True)\n",
    "df_test = df_test.reset_index(drop=True)"
   ]
  },
  {
   "cell_type": "code",
   "execution_count": 13,
   "id": "f2e97f21-7301-4053-a9ca-187ecf3321c6",
   "metadata": {},
   "outputs": [],
   "source": [
    "# Derive y_train, y_val and y_test.\n",
    "y_train = df_train.final_price\n",
    "y_val = df_val.final_price\n",
    "y_test = df_test.final_price"
   ]
  },
  {
   "cell_type": "code",
   "execution_count": 14,
   "id": "e1b9d038-de91-46fa-a11c-47d7390c2d8c",
   "metadata": {},
   "outputs": [],
   "source": [
    "# Delete final_price from df_train, df_val and df_test.\n",
    "del df_train['final_price']\n",
    "del df_val['final_price']\n",
    "del df_test['final_price']"
   ]
  },
  {
   "cell_type": "markdown",
   "id": "f4d71642-82d4-4fa3-ba0d-0dc6adc0240e",
   "metadata": {},
   "source": [
    "### Question 3\n",
    "\n",
    "* We need to deal with missing values for the column from Q1.\n",
    "* We have two options: fill it with 0 or with the mean of this variable.\n",
    "* Try both options. For each, train a linear regression model without regularization using the code from the lessons.\n",
    "* For computing the mean, use the training only!\n",
    "* Use the validation dataset to evaluate the models and compare the RMSE of each option.\n",
    "* Round the RMSE scores to 2 decimal digits using `round(score, 2)`\n",
    "* Which option gives better RMSE?\n",
    "\n",
    "Options:\n",
    "\n",
    "- With 0\n",
    "- With mean\n",
    "- Both are equally good"
   ]
  },
  {
   "cell_type": "code",
   "execution_count": 15,
   "id": "ccf1d39f-e555-4e8d-9797-1bfb1b5632b9",
   "metadata": {},
   "outputs": [],
   "source": [
    "# Define train_linear function.\n",
    "def train_linear(X, y):\n",
    "    one = np.ones(X.shape[0])\n",
    "    X = np.column_stack([one, X])\n",
    "    XTX = X.T.dot(X)\n",
    "    XTX_inv = np.linalg.inv(XTX)\n",
    "    w_full = XTX_inv.dot(X.T).dot(y)\n",
    "    return w_full[0], w_full[1:]"
   ]
  },
  {
   "cell_type": "code",
   "execution_count": 16,
   "id": "d9252d4b-3ea1-46c2-a9a9-f62834ccbbf0",
   "metadata": {},
   "outputs": [],
   "source": [
    "# Define fill_with_zero function.\n",
    "def fill_with_zero(df):\n",
    "    df = df.fillna(0)\n",
    "    X = df.values\n",
    "    return X"
   ]
  },
  {
   "cell_type": "code",
   "execution_count": 17,
   "id": "dae5fa45-66be-4ccb-ae48-0fc66b021373",
   "metadata": {},
   "outputs": [],
   "source": [
    "# Define fill_with_mean function (Using only training data).\n",
    "mean_values = df_train.mean()\n",
    "mean_screen = mean_values['screen']\n",
    "\n",
    "def fill_with_mean(df):\n",
    "    df = df.fillna(mean_screen)\n",
    "    X = df.values\n",
    "    return X"
   ]
  },
  {
   "cell_type": "code",
   "execution_count": 18,
   "id": "d3bef42c-9661-48a1-b4f2-a155206688a5",
   "metadata": {},
   "outputs": [],
   "source": [
    "# Defime the rmse_value function.\n",
    "def rmse_value(y, y_pred):\n",
    "    error = y - y_pred\n",
    "    se = error ** 2\n",
    "    mse = se.mean()\n",
    "    rmse_error = np.sqrt(mse)\n",
    "    return rmse_error"
   ]
  },
  {
   "cell_type": "code",
   "execution_count": 19,
   "id": "8bd1a57a-47b6-4dfa-a9ed-b44eb39e9d90",
   "metadata": {},
   "outputs": [
    {
     "data": {
      "text/plain": [
       "597.36356"
      ]
     },
     "execution_count": 19,
     "metadata": {},
     "output_type": "execute_result"
    }
   ],
   "source": [
    "# Find the RMSE for fill_with_zero.\n",
    "X_train = fill_with_zero(df_train)\n",
    "w0, w = train_linear(X_train, y_train)\n",
    "X_val = fill_with_zero(df_val)\n",
    "y_pred = w0 + X_val.dot(w)\n",
    "rmse_val = round(rmse_value(y_val, y_pred), 5)\n",
    "rmse_val"
   ]
  },
  {
   "cell_type": "code",
   "execution_count": 20,
   "id": "46eb81ce-50bd-4bd9-a243-c758390e5833",
   "metadata": {},
   "outputs": [
    {
     "data": {
      "text/plain": [
       "600.26503"
      ]
     },
     "execution_count": 20,
     "metadata": {},
     "output_type": "execute_result"
    }
   ],
   "source": [
    "# Find the RMSE for fill_with_mean.\n",
    "X_train = fill_with_mean(df_train)\n",
    "w0, w = train_linear(X_train, y_train)\n",
    "X_val = fill_with_mean(df_val)\n",
    "y_pred = w0 + X_val.dot(w)\n",
    "rmse_val = round(rmse_value(y_val, y_pred), 5)\n",
    "rmse_val"
   ]
  },
  {
   "cell_type": "markdown",
   "id": "4e02c0e5-41ff-49cf-9ba7-61f18c47092c",
   "metadata": {},
   "source": [
    "Question 03 Answer: With 0"
   ]
  },
  {
   "cell_type": "markdown",
   "id": "3acce9d8-df2e-4012-89bc-062ee7dc7aed",
   "metadata": {},
   "source": [
    "### Question 4\n",
    "\n",
    "* Now let's train a regularized linear regression.\n",
    "* For this question, fill the NAs with 0. \n",
    "* Try different values of `r` from this list: `[0, 0.01, 0.1, 1, 5, 10, 100]`.\n",
    "* Use RMSE to evaluate the model on the validation dataset.\n",
    "* Round the RMSE scores to 2 decimal digits.\n",
    "* Which `r` gives the best RMSE?\n",
    "\n",
    "If there are multiple options, select the smallest `r`.\n",
    "\n",
    "Options:\n",
    "\n",
    "- 0\n",
    "- 0.01\n",
    "- 1\n",
    "- 10\n",
    "- 100"
   ]
  },
  {
   "cell_type": "code",
   "execution_count": 21,
   "id": "9ac9fab5-0d9d-4af0-9a5f-ee61a501cdbb",
   "metadata": {},
   "outputs": [],
   "source": [
    "# Define train_regularized function.\n",
    "def train_regularized(X, y, r):\n",
    "    one = np.ones(X.shape[0])\n",
    "    X = np.column_stack([one, X])\n",
    "    \n",
    "    XTX = X.T.dot(X)\n",
    "    XTX = XTX + r * np.eye(XTX.shape[0])\n",
    "    \n",
    "    XTX_inv = np.linalg.inv(XTX)\n",
    "    w_full = XTX_inv.dot(X.T).dot(y)\n",
    "    \n",
    "    return w_full[0], w_full[1:]"
   ]
  },
  {
   "cell_type": "code",
   "execution_count": 22,
   "id": "016008be-1dda-40c9-a003-e70776e82633",
   "metadata": {},
   "outputs": [
    {
     "name": "stdout",
     "output_type": "stream",
     "text": [
      "regularization:0, bias:676.8954853003471, RMSE:597.36\n",
      "regularization:0.01, bias:676.2736817204672, RMSE:597.36\n",
      "regularization:0.1, bias:670.7284836313021, RMSE:597.35\n",
      "regularization:1, bias:619.9030834107807, RMSE:597.21\n",
      "regularization:5, bias:463.77716971415225, RMSE:597.01\n",
      "regularization:10, bias:352.79713367676436, RMSE:597.06\n",
      "regularization:100, bias:66.92071440180734, RMSE:597.90\n"
     ]
    }
   ],
   "source": [
    "#  Train a regularized linear regression with different r.\n",
    "for i in [0, 0.01, 0.1, 1, 5, 10, 100]:\n",
    "    \n",
    "    X_train = fill_with_zero(df_train)\n",
    "    w0, w = train_regularized(X_train, y_train, r=i)\n",
    "    \n",
    "    X_val = fill_with_zero(df_val)\n",
    "    y_pred = w0 + X_val.dot(w)\n",
    "    \n",
    "    score = rmse_value(y_val, y_pred)\n",
    "    \n",
    "    print(f\"regularization:{i}, bias:{w0}, RMSE:{score:.2f}\")"
   ]
  },
  {
   "cell_type": "markdown",
   "id": "66781c26-4e2a-446b-8c4f-7ffd6d230f97",
   "metadata": {},
   "source": [
    "Question 04 Answer: 10"
   ]
  },
  {
   "cell_type": "markdown",
   "id": "23e5e709-60e4-46ed-9e64-5d38b0b08db3",
   "metadata": {},
   "source": [
    "### Question 5 \n",
    "\n",
    "* We used seed 42 for splitting the data. Let's find out how selecting the seed influences our score.\n",
    "* Try different seed values: `[0, 1, 2, 3, 4, 5, 6, 7, 8, 9]`.\n",
    "* For each seed, do the train/validation/test split with 60%/20%/20% distribution.\n",
    "* Fill the missing values with 0 and train a model without regularization.\n",
    "* For each seed, evaluate the model on the validation dataset and collect the RMSE scores. \n",
    "* What's the standard deviation of all the scores? To compute the standard deviation, use `np.std`.\n",
    "* Round the result to 3 decimal digits (`round(std, 3)`)\n",
    "\n",
    "What's the value of std?\n",
    "\n",
    "- 19.176\n",
    "- 29.176\n",
    "- 39.176\n",
    "- 49.176\n",
    "\n",
    "> Note: Standard deviation shows how different the values are.\n",
    "> If it's low, then all values are approximately the same.\n",
    "> If it's high, the values are different. \n",
    "> If standard deviation of scores is low, then our model is *stable*."
   ]
  },
  {
   "cell_type": "code",
   "execution_count": 23,
   "id": "81715685-f8dc-4d13-bd59-3215b01013f3",
   "metadata": {},
   "outputs": [],
   "source": [
    "#  Train a linear regression with different seeds.\n",
    "the_score = []\n",
    "\n",
    "for seed in [0, 1, 2, 3, 4, 5, 6, 7, 8, 9]:\n",
    "    np.random.seed(seed)\n",
    "    \n",
    "    idx = np.arange(n)\n",
    "    np.random.shuffle(idx)\n",
    "    \n",
    "    df_train = df.iloc[idx[:n_train]].reset_index(drop=True)\n",
    "    df_val = df.iloc[idx[n_train:n_train+n_val]].reset_index(drop=True)\n",
    "    df_test = df.iloc[idx[n_train+n_val:]].reset_index(drop=True)\n",
    "    \n",
    "    y_train = df_train.final_price.values\n",
    "    y_val = df_val.final_price.values\n",
    "    \n",
    "    df_train = df_train.drop('final_price', axis=1)\n",
    "    df_val = df_val.drop('final_price', axis=1)\n",
    "    \n",
    "    X_train = fill_with_zero(df_train)\n",
    "    w0, w = train_linear(X_train, y_train)\n",
    "\n",
    "    X_val = fill_with_zero(df_val)\n",
    "    y_pred = w0 + X_val.dot(w)\n",
    "    rmse_val = rmse_value(y_val, y_pred)\n",
    "    the_score.append(rmse_val)"
   ]
  },
  {
   "cell_type": "code",
   "execution_count": 24,
   "id": "8ee318c0-3603-4ef4-8bc6-f67cb4ade5a0",
   "metadata": {},
   "outputs": [
    {
     "data": {
      "text/plain": [
       "29.176"
      ]
     },
     "execution_count": 24,
     "metadata": {},
     "output_type": "execute_result"
    }
   ],
   "source": [
    "# Find the standard deviation of the score.\n",
    "the_sd = round(np.std(the_score), 3)\n",
    "the_sd"
   ]
  },
  {
   "cell_type": "markdown",
   "id": "9f71af6a-a3fe-4b1b-84c8-0c54baa227a1",
   "metadata": {},
   "source": [
    "Question 05 Answer: 29.176"
   ]
  },
  {
   "cell_type": "markdown",
   "id": "b2cfcd8f-eb82-4d3d-8466-8de8d8351a45",
   "metadata": {},
   "source": [
    "### Question 6\n",
    "\n",
    "* Split the dataset like previously, use seed 9.\n",
    "* Combine train and validation datasets.\n",
    "* Fill the missing values with 0 and train a model with `r=0.001`. \n",
    "* What's the RMSE on the test dataset?\n",
    "\n",
    "Options:\n",
    "\n",
    "- 598.60\n",
    "- 608.60\n",
    "- 618.60\n",
    "- 628.60"
   ]
  },
  {
   "cell_type": "code",
   "execution_count": 25,
   "id": "765f1233-ff41-4ef8-b3ab-d4977c29df2f",
   "metadata": {},
   "outputs": [
    {
     "data": {
      "text/plain": [
       "608.61"
      ]
     },
     "execution_count": 25,
     "metadata": {},
     "output_type": "execute_result"
    }
   ],
   "source": [
    "np.random.seed(9)\n",
    "\n",
    "idx = np.arange(n)\n",
    "np.random.shuffle(idx)\n",
    "    \n",
    "df_train = df.iloc[idx[:n_train]].reset_index(drop=True)\n",
    "df_val = df.iloc[idx[n_train:n_train+n_val]].reset_index(drop=True)\n",
    "df_test = df.iloc[idx[n_train+n_val:]].reset_index(drop=True)\n",
    "\n",
    "# combine the train and validation dataset\n",
    "final_df = pd.concat([df_train, df_val]).reset_index(drop=True)\n",
    "\n",
    "y_final = final_df['final_price']\n",
    "y_test = df_test.final_price.values\n",
    "    \n",
    "train_df = final_df.drop('final_price', axis=1)\n",
    "test_df = df_test.drop('final_price', axis=1)\n",
    "    \n",
    "X_train = fill_with_zero(train_df)\n",
    "w0, w = train_regularized(X_train, y_final, r=0.001)\n",
    "\n",
    "X_test = fill_with_zero(test_df)\n",
    "y_pred = w0 + X_test.dot(w)\n",
    "rmse_val = round(rmse_value(y_test, y_pred), 2)\n",
    "rmse_val"
   ]
  },
  {
   "cell_type": "markdown",
   "id": "2fb031bf-87c3-4130-aa43-7f911b4dd193",
   "metadata": {},
   "source": [
    "Question 06 Answer: 608.60"
   ]
  }
 ],
 "metadata": {
  "kernelspec": {
   "display_name": "Python 3 (ipykernel)",
   "language": "python",
   "name": "python3"
  },
  "language_info": {
   "codemirror_mode": {
    "name": "ipython",
    "version": 3
   },
   "file_extension": ".py",
   "mimetype": "text/x-python",
   "name": "python",
   "nbconvert_exporter": "python",
   "pygments_lexer": "ipython3",
   "version": "3.11.9"
  }
 },
 "nbformat": 4,
 "nbformat_minor": 5
}
